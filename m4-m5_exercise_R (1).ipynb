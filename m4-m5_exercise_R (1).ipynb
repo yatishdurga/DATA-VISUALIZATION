{
 "cells": [
  {
   "cell_type": "markdown",
   "id": "d68458f9-a52a-46f8-ac9c-0d631f9d4b55",
   "metadata": {},
   "source": [
    "# Module 4 and 5 Exercise\n",
    "\n",
    "In these exercises, we will plot some statistical plots about a data set. Whether using `R (ggplot2)` or `Python (plotnine)`, have your `ggplot2` cheat sheets and documentation handy to find the right parameters for the functions.\n",
    "\n",
    "Once you choose which language you want to use, then switch the language kernel by clicking the top right corner of a notebook menu bar (Not the JupyterLab menu bar.)\n",
    "\n",
    "Let's read the house sales data."
   ]
  },
  {
   "cell_type": "code",
   "execution_count": null,
   "id": "0c9511aa-8b07-49d0-ae9c-c5befb877e3c",
   "metadata": {},
   "outputs": [],
   "source": [
    "library(tidyverse)\n",
    "County_data <- read.csv(\"../data/kc_house_data.csv\", header=TRUE, sep=\",\")\n",
    "head(County_data)  # Check the first five observations"
   ]
  },
  {
   "cell_type": "markdown",
   "id": "f76a40cb-c1c6-42e1-b9c4-238fc41684f5",
   "metadata": {},
   "source": [
    "Let's check the observations that the `bedrooms` are more than tens.\n"
   ]
  },
  {
   "cell_type": "code",
   "execution_count": null,
   "id": "044f58a7-64ce-4c0f-8cb3-af998631bda2",
   "metadata": {},
   "outputs": [],
   "source": [
    "County_data %>% filter(bedrooms > 10)"
   ]
  },
  {
   "cell_type": "markdown",
   "id": "b2f1fc8c-43fc-45d7-982c-9b0d06ee4d32",
   "metadata": {},
   "source": [
    "Two rows in the dataset have more bedrooms than 10, but the price is very low. Let's first remove those outliers (anomalies) from the data."
   ]
  },
  {
   "cell_type": "code",
   "execution_count": null,
   "id": "a2be1ed8-dd49-439f-9231-590c36a7e8cf",
   "metadata": {},
   "outputs": [],
   "source": [
    "County_data <- County_data %>% filter(bedrooms <= 10)"
   ]
  },
  {
   "cell_type": "markdown",
   "id": "56917de1-c308-4d7e-87dc-a83efb2c0156",
   "metadata": {},
   "source": [
    "**Exercise 1:** Run `str` and summary commands on the data set and give your best guess about __(1) which attributes are **nominal** variables__. __(2) **Justify your answer.**__ "
   ]
  },
  {
   "cell_type": "code",
   "execution_count": null,
   "id": "de6d7224-6fe1-40dd-a493-a2e9a2235eb7",
   "metadata": {},
   "outputs": [],
   "source": [
    "# Your Code Here\n",
    "# ------------------------"
   ]
  },
  {
   "cell_type": "markdown",
   "id": "eb031b02-78fa-4916-94b1-4cefd6643609",
   "metadata": {},
   "source": [
    "**Answer to specify nominal variables and why do you think those are nominal:**"
   ]
  },
  {
   "cell_type": "markdown",
   "id": "0b981dbc-2ace-4315-a732-8ba34df19f1b",
   "metadata": {},
   "source": []
  },
  {
   "cell_type": "markdown",
   "id": "f1e27d3d-95bc-4a06-bba4-4d73cde738f3",
   "metadata": {},
   "source": [
    "**Exercise 2:** Map the **sqft_living** and **price** attributes to x and y axes of a scatter plot, respectively. Use some alpha transparency."
   ]
  },
  {
   "cell_type": "code",
   "execution_count": null,
   "id": "d4c3b5e7-c455-41c6-bcca-1e9a54ed4667",
   "metadata": {},
   "outputs": [],
   "source": [
    "# Install the additional packages\n",
    "# install.packages('ggthemes')"
   ]
  },
  {
   "cell_type": "code",
   "execution_count": null,
   "id": "72ec1198-74ed-4b40-9d1e-c3c17c1445f0",
   "metadata": {},
   "outputs": [],
   "source": [
    "library(ggthemes)\n",
    "options(repr.plot.width=8, repr.plot.height=8)"
   ]
  },
  {
   "cell_type": "code",
   "execution_count": null,
   "id": "95cbde7c-caf7-4dfe-adf4-4b9c0550605e",
   "metadata": {},
   "outputs": [],
   "source": [
    "# Your Code Here\n",
    "# ------------------------\n"
   ]
  },
  {
   "cell_type": "markdown",
   "id": "5f0d25c0-5af2-4211-a353-849c54d0171f",
   "metadata": {},
   "source": [
    "If you draw a scatter plot properly, you cannot really see anything here. Let's try the same plot with log scales."
   ]
  },
  {
   "cell_type": "markdown",
   "id": "eb81c755-9147-4a4d-bc4e-5f463dc0104b",
   "metadata": {},
   "source": [
    "**Exercise 3**: Plot the above axes (both **x** and **y**) in log10 scale.\n"
   ]
  },
  {
   "cell_type": "code",
   "execution_count": null,
   "id": "87bdc2bd-bee8-4dc8-a532-f6e7b4b39142",
   "metadata": {},
   "outputs": [],
   "source": [
    "# Your Code Here\n",
    "# ------------------------\n"
   ]
  },
  {
   "cell_type": "markdown",
   "id": "0d98e988-1f85-4c49-a80f-12aa33e3e8a2",
   "metadata": {},
   "source": [
    "This gives a better relation between price and square footage. \n",
    "\n",
    "\n",
    "Let's plot a histogram of price; it is the distribution of prices for all houses. \n",
    "\n",
    "**Exercise 4:** Plot a **histogram** of **price** with a **binwidth** of 30000."
   ]
  },
  {
   "cell_type": "code",
   "execution_count": null,
   "id": "13c33b07-9eea-4277-b492-85e28d4408da",
   "metadata": {},
   "outputs": [],
   "source": [
    "# Your Code Here\n",
    "# ------------------------\n"
   ]
  },
  {
   "cell_type": "markdown",
   "id": "86163c9f-758e-4fd8-ab81-bb7006aacec8",
   "metadata": {},
   "source": [
    "We can also plot the probability density function of the price, it will look like a smoothed version of the histogram.\n",
    "\n",
    "**Exercise 5:** Plot the density of **price** using **geom_density**. "
   ]
  },
  {
   "cell_type": "code",
   "execution_count": null,
   "id": "f04adc94-4b3d-49ff-8fc4-84183c554d77",
   "metadata": {},
   "outputs": [],
   "source": [
    "# Your Code Here\n",
    "# ------------------------"
   ]
  },
  {
   "cell_type": "markdown",
   "id": "69aee77b-5010-4bac-9e54-88ce0fd64782",
   "metadata": {},
   "source": [
    "Let's work on the subset of the data; we will look only at houses that are less than $2M. "
   ]
  },
  {
   "cell_type": "code",
   "execution_count": null,
   "id": "d5b66d29-d5e6-4c09-bc92-d5e018dc920d",
   "metadata": {},
   "outputs": [],
   "source": [
    "lowprice_houses = County_data %>% filter(price < 2000000) "
   ]
  },
  {
   "cell_type": "markdown",
   "id": "d7860483-b099-458f-88ed-b72f6d051320",
   "metadata": {},
   "source": [
    "\n",
    "---\n",
    "\n",
    "We can plot **multiple densities** on the same plot to see how the price distribution differs with respect to some attribute. We should use alpha transparency in geom_density to see the different distributions.\n",
    "\n",
    "**Exercise 6:** Plot multiple densities of **price** with respect to **number of bedrooms**. "
   ]
  },
  {
   "cell_type": "code",
   "execution_count": null,
   "id": "4421c5ac-0da5-4739-843d-f01a9d57707b",
   "metadata": {},
   "outputs": [],
   "source": [
    "# Your Code Here\n",
    "# ------------------------\n"
   ]
  },
  {
   "cell_type": "markdown",
   "id": "1c299e00-5ad6-4d21-8e7b-bc00a8cf603d",
   "metadata": {},
   "source": [
    "This works well if there aren't too many classes. Here, we can't see much, so let's use the **facet_wrap()** to create **small multiples** to compare densities for different number of bedrooms. \n",
    "\n",
    "**Exercise 7:** Plot **small multiples** of **price densities** with respect to **number of bedrooms**. "
   ]
  },
  {
   "cell_type": "code",
   "execution_count": null,
   "id": "91082458-4640-4bfa-889c-6ae68704f03e",
   "metadata": {},
   "outputs": [],
   "source": [
    "options(repr.plot.width=16, repr.plot.height=10)"
   ]
  },
  {
   "cell_type": "code",
   "execution_count": null,
   "id": "1effed44-8de4-4b3b-968f-33af69758c56",
   "metadata": {},
   "outputs": [],
   "source": [
    "# Your Code Here\n",
    "# ------------------------\n"
   ]
  },
  {
   "cell_type": "markdown",
   "id": "ba3cb0ac-30d1-4226-aa22-9ac501dd3d58",
   "metadata": {},
   "source": [
    "Here, we can see that the price distribution is narrowed up to four bedrooms; after that, the variance of the price increases. \n",
    "Let's see the distribution for a number of floors.\n",
    "\n",
    "**Exercise 8:** Plot **small multiples** of **price densities** with respect to **number of floors**. "
   ]
  },
  {
   "cell_type": "code",
   "execution_count": null,
   "id": "dee53059-6cea-4dcd-a4d3-d76fc2573fb5",
   "metadata": {},
   "outputs": [],
   "source": [
    "# Your Code Here\n",
    "# ------------------------\n"
   ]
  },
  {
   "cell_type": "markdown",
   "id": "c6e033e9-eb98-4895-8b71-29cd3912402a",
   "metadata": {},
   "source": [
    "Let's plot a scatter plot for price vs. square footage using small multiples for the number of bedrooms. Map the number of floors to a *color* visual variable using a **sequential** brewer palette.\n",
    "\n",
    "**Exercise 9:** Do a scatter plot of **price** vs. **square footage** with **small multiples** of **bedrooms**. "
   ]
  },
  {
   "cell_type": "code",
   "execution_count": null,
   "id": "4606b2a8-2596-445a-96f4-941dcd90da1c",
   "metadata": {},
   "outputs": [],
   "source": [
    "# Your Code Here\n",
    "# ------------------------\n"
   ]
  },
  {
   "cell_type": "markdown",
   "id": "7d6219d7-d578-423c-8950-1d828238ed3d",
   "metadata": {},
   "source": [
    "**Exercise 10:** Let's make both axes log scale. "
   ]
  },
  {
   "cell_type": "code",
   "execution_count": null,
   "id": "0cd9caa6-a5ac-4e37-be76-a35cb191fd75",
   "metadata": {},
   "outputs": [],
   "source": [
    "# Your Code Here\n",
    "# ------------------------\n"
   ]
  },
  {
   "cell_type": "markdown",
   "id": "ec1de28d-f950-49a4-964b-9e3954abbe67",
   "metadata": {},
   "source": [
    "---\n",
    "\n",
    "\n",
    "**Let's look at a different data set. This one is about a survey of students enrolled in a class, and some information about them was collected about their behavior, demographics, etc.** "
   ]
  },
  {
   "cell_type": "code",
   "execution_count": null,
   "id": "c56bbbd5-6b74-42d9-8c0d-a3538e677172",
   "metadata": {
    "scrolled": true
   },
   "outputs": [],
   "source": [
    "ecg = read.csv(\"../data/eyecolorgenderdata.csv\", header=TRUE, sep=\",\")\n",
    "head(ecg)"
   ]
  },
  {
   "cell_type": "markdown",
   "id": "c5621017-98a7-4f64-a625-1baeb202989a",
   "metadata": {},
   "source": [
    "**Exercise 11:** Name the **nominal** and **ordinal** variables in this data set. "
   ]
  },
  {
   "cell_type": "code",
   "execution_count": null,
   "id": "994c0979-5f52-4bd5-9bef-c43a0730cc87",
   "metadata": {},
   "outputs": [],
   "source": [
    "# Your Code Here\n",
    "# ------------------------"
   ]
  },
  {
   "cell_type": "markdown",
   "id": "c9e6ba4f-4014-4918-b43b-8271abfde3b2",
   "metadata": {},
   "source": [
    "**Answer the nominal and ordinal variables:**"
   ]
  },
  {
   "cell_type": "markdown",
   "id": "6113b97d-e6e1-4df3-a84d-e8b18c7a53b0",
   "metadata": {},
   "source": []
  },
  {
   "cell_type": "markdown",
   "id": "b917ef1c-312c-459e-806c-822589f27d5f",
   "metadata": {},
   "source": [
    "**Exercise 12:** Plot a scatter plot of **gender** vs. **eyecolor**."
   ]
  },
  {
   "cell_type": "code",
   "execution_count": null,
   "id": "e5948140-5c21-4836-b862-4cbc74f3c8f8",
   "metadata": {},
   "outputs": [],
   "source": [
    "options(repr.plot.width=8, repr.plot.height=8)"
   ]
  },
  {
   "cell_type": "code",
   "execution_count": null,
   "id": "0f2ac551-bc66-4486-9859-845662866ed7",
   "metadata": {},
   "outputs": [],
   "source": [
    "# Your Code Here\n",
    "# ------------------------\n"
   ]
  },
  {
   "cell_type": "markdown",
   "id": "f1c497d5-050a-4a85-b673-8391b790c6b0",
   "metadata": {},
   "source": [
    "This didn't work well. When we have overplotting problem where attributes have same exact values for a large number of data rows, we should use geom_jitter() to randomly place points in a scatter plot.\n",
    "\n",
    "**Exercise 13:** Plot a scatter plot of **gender** vs. **eyecolor** with **jitter** geometry. "
   ]
  },
  {
   "cell_type": "code",
   "execution_count": null,
   "id": "85e788fe-f2c2-4e32-91b4-5a89e5fbea00",
   "metadata": {},
   "outputs": [],
   "source": [
    "# Your Code Here\n",
    "# ------------------------\n"
   ]
  },
  {
   "cell_type": "markdown",
   "id": "46f3acff-b541-41c9-a277-294bef4f7e69",
   "metadata": {},
   "source": [
    "It's intuitive to use **color** visual variable for the **eyecolor** attribute.\n",
    "\n",
    "**Exercise 14:** Plot a scatter plot of **gender** vs. **eyecolor** and use **color** for the **eyecolor** attribute. Adjust width and height of **jitter** suitably and add transparency. "
   ]
  },
  {
   "cell_type": "code",
   "execution_count": null,
   "id": "9a54d5a7-935a-4299-9f41-773bbc782bbb",
   "metadata": {},
   "outputs": [],
   "source": [
    "options(repr.plot.width=11, repr.plot.height=11)"
   ]
  },
  {
   "cell_type": "code",
   "execution_count": null,
   "id": "016a572b-8b29-436a-b1d3-acdd1a62b474",
   "metadata": {},
   "outputs": [],
   "source": [
    "# Your Code Here\n",
    "# ------------------------\n"
   ]
  },
  {
   "cell_type": "markdown",
   "id": "d3b034ae-4a9e-4e7f-8c80-5132035e345d",
   "metadata": {},
   "source": [
    "The colors should be intuitive, so we will manually name them with **scale_color_manual()** where the color values will be \n",
    "**c(\"blue\", \"chocolate4\", \"green4\", \"#595c26\", \"black\")**.\n",
    "\n",
    "For the Python user, the above `chocolate4` color does not exist. Please use the following customized color palette:\n",
    "**\\[\"blue\", \"chocolate\", \"green\", \"#595c26\", \"black\"\\]**.\n",
    "\n",
    "**Exercise 15:** Add manual colors to the above plot."
   ]
  },
  {
   "cell_type": "code",
   "execution_count": null,
   "id": "c2fe67a1-a4a8-482e-be66-c4deb9b44179",
   "metadata": {},
   "outputs": [],
   "source": [
    "# Your Code Here\n",
    "# ------------------------\n",
    "# Black is not intuitive for the category \"other\" because \n",
    "# some people (or at least 30% of the world population based on \n",
    "# 2018 UN data) directly think that it is for a black eye. \n",
    "# So instead of black, I use yellow, which usually does not exist except for illness.\n"
   ]
  },
  {
   "cell_type": "markdown",
   "id": "34a7b100-0194-47c8-b349-13e11ebebb2a",
   "metadata": {},
   "source": [
    "**Exercise 16:** And finally add **shape** visual variable to encode the **exercise** attribute. **Does it work well? Why?** \n"
   ]
  },
  {
   "cell_type": "code",
   "execution_count": null,
   "id": "1c794250-8c96-4d4a-b5fa-0fa8ad85ee55",
   "metadata": {},
   "outputs": [],
   "source": [
    "# Your Code Here\n",
    "# ------------------------\n"
   ]
  },
  {
   "cell_type": "markdown",
   "id": "51d718fb-0c84-40ce-b618-ae46a302863d",
   "metadata": {},
   "source": [
    "**Answer whether the shape visual variable works well and why:**"
   ]
  },
  {
   "cell_type": "markdown",
   "id": "82e53a83-76dd-4467-8ac4-dac9326aa206",
   "metadata": {},
   "source": []
  },
  {
   "cell_type": "markdown",
   "id": "692be1c5-5ae9-4bde-9eab-b2205f998f43",
   "metadata": {},
   "source": [
    "**Exercise 17:** Plot a scatter plot of **gender** vs. **height** with **small multiples** for **exercise**. \n",
    "\n",
    "**Use the techniques you applied in the above exercises. Use intuitive visual variables for the attributes.** \n"
   ]
  },
  {
   "cell_type": "code",
   "execution_count": null,
   "id": "8758e48f-4f15-4abf-9181-6d23f51f09d1",
   "metadata": {},
   "outputs": [],
   "source": [
    "options(repr.plot.width=10, repr.plot.height=9)"
   ]
  },
  {
   "cell_type": "code",
   "execution_count": null,
   "id": "f9665e89-7147-4844-8edf-b96b49016ce7",
   "metadata": {},
   "outputs": [],
   "source": [
    "# Your Code Here\n",
    "# ------------------------\n"
   ]
  },
  {
   "cell_type": "markdown",
   "id": "5440a232-f913-4cae-b41c-51b6969677a6",
   "metadata": {},
   "source": [
    "-----"
   ]
  },
  {
   "cell_type": "markdown",
   "id": "65fc7643-394f-4924-93a0-9e571bf43dfb",
   "metadata": {},
   "source": [
    "Let's read the Gapminder data from the web resource."
   ]
  },
  {
   "cell_type": "code",
   "execution_count": null,
   "id": "93a6c3b8-ed1c-4947-a113-08568368bfe0",
   "metadata": {},
   "outputs": [],
   "source": [
    "library(plotly)\n",
    "library(RColorBrewer)\n",
    "\n",
    "# Read the world population with life expectancy and GDP per capita by each country\n",
    "world_pop <- read.csv(\n",
    "    paste(\n",
    "        \"https://raw.githubusercontent.com\", \n",
    "        \"plotly/datasets/master\", \n",
    "        \"gapminderDataFiveYear.csv\", \n",
    "        sep=\"/\"\n",
    "    )\n",
    ")\n",
    "head(world_pop)"
   ]
  },
  {
   "cell_type": "markdown",
   "id": "d2657b67-6b5b-4eed-84a5-a4dd3359a7fa",
   "metadata": {},
   "source": [
    "**Exercise 18:** Create a subset of the data between the years 1951 and 1993. Then, display the U.S. table using `country=='United States'`. "
   ]
  },
  {
   "cell_type": "code",
   "execution_count": null,
   "id": "8c826e80-0a30-4798-8b17-78ae7a52da34",
   "metadata": {},
   "outputs": [],
   "source": [
    "# Your Code Here\n",
    "# ------------------------\n"
   ]
  },
  {
   "cell_type": "markdown",
   "id": "c573b31a-c183-418f-ac94-bf3d7cf89353",
   "metadata": {},
   "source": [
    "**Exercise 19:** Plot **small multiples of histograms** of **life expectancy for each year** for the subset. Use a binwidth of **5**, and use sensible axis labels."
   ]
  },
  {
   "cell_type": "code",
   "execution_count": null,
   "id": "927545fd-dc59-4de7-90c5-2c6d253eace0",
   "metadata": {},
   "outputs": [],
   "source": [
    "options(repr.plot.width=12.8, repr.plot.height=9.6)"
   ]
  },
  {
   "cell_type": "code",
   "execution_count": null,
   "id": "d9abe012-6595-4f95-81b6-3226ae550c6f",
   "metadata": {},
   "outputs": [],
   "source": [
    "# Your Code Here\n",
    "# ------------------------\n"
   ]
  },
  {
   "cell_type": "markdown",
   "id": "0579a37a-2cc8-4674-a76d-2c63e6350921",
   "metadata": {},
   "source": [
    "**Exercise 20:** (1) Do the same as above, but plot a density function this time. (2) How do you interpret the change of density in years?"
   ]
  },
  {
   "cell_type": "code",
   "execution_count": null,
   "id": "7ed52d28-8b08-43f9-9b34-f8aeeabd5438",
   "metadata": {},
   "outputs": [],
   "source": [
    "# Please Answer your code here for (1)\n",
    "# --------------------------------------\n"
   ]
  },
  {
   "cell_type": "markdown",
   "id": "5ac69173-a542-49b3-b06b-150bb7b3d145",
   "metadata": {},
   "source": [
    "**Answer how to interpret**: "
   ]
  },
  {
   "cell_type": "markdown",
   "id": "ba55168d-35ff-4061-a692-a243a21b90ab",
   "metadata": {},
   "source": []
  },
  {
   "cell_type": "markdown",
   "id": "6f5cae91-d294-4a89-97ae-7f05d3474816",
   "metadata": {},
   "source": [
    "**Exercise 21:** Create a line plot (use both geom_line and geom_point) to plot year versus population for the **whole** data set. Use a logarithmic scale in **y axis** and **group by country**, **color by continent**. Can you see any pattern? "
   ]
  },
  {
   "cell_type": "markdown",
   "id": "f4134359-71ca-4adf-95ab-8a72827ae3f3",
   "metadata": {},
   "source": [
    "You might have a chance to use the library `latex2exp`. Please use the next code cell to install to it."
   ]
  },
  {
   "cell_type": "code",
   "execution_count": null,
   "id": "9dc5872a-e4a3-489b-a0e1-96d1dba66065",
   "metadata": {},
   "outputs": [],
   "source": [
    "install.packages('latex2exp')"
   ]
  },
  {
   "cell_type": "code",
   "execution_count": null,
   "id": "b7ce3084-5b5d-4f78-af05-89840ecd2ed3",
   "metadata": {},
   "outputs": [],
   "source": [
    "# Please Answer your code here\n",
    "# ------------------------------------\n"
   ]
  },
  {
   "cell_type": "markdown",
   "id": "8ec0560f-a465-4d00-8710-e3a4fdacffb7",
   "metadata": {},
   "source": [
    "_**Can you see any pattern?**_\n",
    "\n",
    "**Answer here:**"
   ]
  },
  {
   "cell_type": "markdown",
   "id": "f2caaed5-981c-412b-9c1b-58b4b233964b",
   "metadata": {},
   "source": []
  },
  {
   "cell_type": "markdown",
   "id": "5349b4a1-13cf-4639-92a2-15006593ebe1",
   "metadata": {},
   "source": [
    "---"
   ]
  },
  {
   "cell_type": "markdown",
   "id": "7b6e3cbb-1030-46a7-a4bd-f1e89bff5720",
   "metadata": {},
   "source": [
    "**Aggregate data:** The above plot is too crowded to see. Let's aggregate data by continent and year so we can plot meaningful data. The following code creates a new data frame by computing the sums of the population for years and continents."
   ]
  },
  {
   "cell_type": "code",
   "execution_count": null,
   "id": "014f84e0-e053-449e-a22a-c2a7fb546321",
   "metadata": {},
   "outputs": [],
   "source": [
    "aggdata <- world_pop %>%\n",
    "    group_by(continent, year) %>%\n",
    "    summarise(\n",
    "        total.population = sum(pop, na.rm=TRUE)\n",
    "    ) %>%\n",
    "    arrange(year, continent)\n",
    "head(aggdata)"
   ]
  },
  {
   "cell_type": "markdown",
   "id": "21f07608-f9a8-4afd-ab40-75efecd7cf01",
   "metadata": {},
   "source": [
    "**Exercise 22:** Now (1) **repeat Exercise 21 with this aggregate data** and group and color by continent. (2) Do you see a pattern? "
   ]
  },
  {
   "cell_type": "code",
   "execution_count": null,
   "id": "fe26f52f-33c4-4c85-a60d-f98ab0326689",
   "metadata": {},
   "outputs": [],
   "source": [
    "# Your Code Here\n",
    "# ------------------------\n"
   ]
  },
  {
   "cell_type": "markdown",
   "id": "61f49293-4243-495b-90e5-72ce962153c8",
   "metadata": {},
   "source": [
    "**Answer here your opinion whether you can see a pattern:**"
   ]
  },
  {
   "cell_type": "markdown",
   "id": "a58189c1-6f4b-4756-ae6c-8fcbad792b34",
   "metadata": {},
   "source": []
  },
  {
   "cell_type": "markdown",
   "id": "0bcb8070-b708-426c-a324-a95cbd68fb2a",
   "metadata": {},
   "source": [
    "**Exercise 23:** Now, plot a **stacked area chart** to see the same. Instead of group and color, use only **fill** parameter for **continent**, and use **geom_area**."
   ]
  },
  {
   "cell_type": "code",
   "execution_count": null,
   "id": "66a1c277-65fc-46b1-939a-187654070653",
   "metadata": {},
   "outputs": [],
   "source": [
    "# Your Code Here\n",
    "# ------------------------\n"
   ]
  },
  {
   "cell_type": "markdown",
   "id": "5bf6294d-508e-4266-ad4a-bcd871281287",
   "metadata": {},
   "source": [
    "---"
   ]
  },
  {
   "cell_type": "markdown",
   "id": "ab268e5a-7e86-43a1-b049-e191c09b21e2",
   "metadata": {},
   "source": [
    "**Find percentages:** The above plot shows actual population numbers, which grow in time. We want to see the percentage change of the continents' populations with respect to the total world population. The code below computes that. "
   ]
  },
  {
   "cell_type": "code",
   "execution_count": null,
   "id": "19b60978-e598-41dd-9ead-df7852864405",
   "metadata": {},
   "outputs": [],
   "source": [
    "# Using dplyr\n",
    "aggdata <- world_pop %>%\n",
    "    group_by(year) %>%\n",
    "    summarise(world.pop=sum(pop, na.rm=TRUE)) %>%\n",
    "    right_join(world_pop, by=\"year\") %>%\n",
    "    group_by(continent, year) %>%\n",
    "    select(continent, country, year, pop, world.pop) %>%\n",
    "    summarise(\n",
    "        total.pop=sum(pop, na.rm=TRUE),\n",
    "        world.pop=mean(world.pop, na.rm=TRUE)        \n",
    "    ) %>%\n",
    "    mutate(percent.pop=(total.pop/world.pop)*100) %>%\n",
    "    arrange(year, continent)\n",
    "head(aggdata)"
   ]
  },
  {
   "cell_type": "markdown",
   "id": "0b91bec8-2b79-4a2e-878a-a972c6b2e44c",
   "metadata": {},
   "source": [
    "**Exercise 24:** Now, **plot the same as exercise 23** but use **percent.pop** as the y axis. "
   ]
  },
  {
   "cell_type": "code",
   "execution_count": null,
   "id": "5c1afd58-8814-441a-aad7-34e8cb0b7a7a",
   "metadata": {},
   "outputs": [],
   "source": [
    "# Your Code Here\n",
    "# ------------------------\n"
   ]
  },
  {
   "cell_type": "markdown",
   "id": "5390e027-a324-49e5-a7eb-7bdced2002e8",
   "metadata": {},
   "source": [
    "**Exercise 25:** We will aggregate once more; this time we will compute the **mean GDP per capita for continents and years**. **It's your turn this time.**"
   ]
  },
  {
   "cell_type": "code",
   "execution_count": null,
   "id": "674606e6-71bc-47a3-8130-4187131a7480",
   "metadata": {},
   "outputs": [],
   "source": [
    "# Your Code Here\n",
    "# ------------------------\n"
   ]
  },
  {
   "cell_type": "markdown",
   "id": "0241a171-0fa5-4722-bc7b-13b2e6266e46",
   "metadata": {},
   "source": [
    "**Exercise 26:** Plot a **heatmap** using **plot_ly function** for **years** vs. **continents** using the **mean gdp per capita as the z value**. "
   ]
  },
  {
   "cell_type": "code",
   "execution_count": null,
   "id": "7bc965e2-0bab-4cf2-b55f-437774494147",
   "metadata": {},
   "outputs": [],
   "source": [
    "# Load Viridis library\n",
    "library(viridis)"
   ]
  },
  {
   "cell_type": "code",
   "execution_count": null,
   "id": "de006de3-cb28-4946-844f-c0023533e72d",
   "metadata": {},
   "outputs": [],
   "source": [
    "# Your Code Here\n",
    "# ------------------------\n",
    "\n"
   ]
  },
  {
   "cell_type": "markdown",
   "id": "e57283d4-7a72-4f6b-a8ba-2a4c3dd427c0",
   "metadata": {},
   "source": [
    "**Exercise 27:** Plot a **boxplot** for **gdp per capita** using **plot_ly function** for **continents**. \n",
    "\n",
    "Use the **whole** data set, **color by continent**, and make sure the **y-axis is in log scale**. \n",
    "\n",
    "**When hovering over data, what do you notice about the first and third quartiles for each continent (hint: think of income inequality) ?** "
   ]
  },
  {
   "cell_type": "code",
   "execution_count": null,
   "id": "325a0003-274b-4e80-b871-6e47154f02ae",
   "metadata": {},
   "outputs": [],
   "source": [
    "# Your Code Here\n",
    "# ------------------------\n"
   ]
  },
  {
   "cell_type": "markdown",
   "id": "6ba8de31-d7d6-45eb-a3e3-2f8015468474",
   "metadata": {},
   "source": [
    "**Answer your thought about the first and third quartiles for each continent:**"
   ]
  },
  {
   "cell_type": "markdown",
   "id": "d3db25ca-a085-4c83-b41c-b6740e09b04c",
   "metadata": {},
   "source": []
  },
  {
   "cell_type": "markdown",
   "id": "6ba56672-c226-4bf5-bb6a-54dc00fe8e81",
   "metadata": {},
   "source": [
    "### Please write your answer and execute all codes to display data visualization.\n",
    "### Save your answer. (File->Save Notebook, Ctrl+S or Command+S)\n",
    "### After save your notebook, please submit yours to Blackboard."
   ]
  }
 ],
 "metadata": {
  "kernelspec": {
   "display_name": "R",
   "language": "R",
   "name": "ir"
  },
  "language_info": {
   "codemirror_mode": "r",
   "file_extension": ".r",
   "mimetype": "text/x-r-source",
   "name": "R",
   "pygments_lexer": "r",
   "version": "4.4.1"
  }
 },
 "nbformat": 4,
 "nbformat_minor": 5
}
